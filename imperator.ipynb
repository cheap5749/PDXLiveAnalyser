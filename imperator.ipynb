{
 "cells": [
  {
   "cell_type": "code",
   "execution_count": 1,
   "id": "c8d2acbe",
   "metadata": {
    "scrolled": true
   },
   "outputs": [],
   "source": [
    "import os\n",
    "import pandas\n",
    "import time\n",
    "import csv\n",
    "import json\n",
    "\n",
    "\n",
    "savegame = \"../Imperator/analyses/scythia_solo20-02-2023_15h48.json\"\n",
    "with open(savegame, encoding=\"utf-8\") as source:\n",
    "    source=json.load(source)\n",
    "\n",
    "        "
   ]
  },
  {
   "cell_type": "code",
   "execution_count": 2,
   "id": "54f8151a",
   "metadata": {
    "scrolled": true
   },
   "outputs": [],
   "source": [
    "from imperator import province_analyses\n",
    "from imperator import country_analyses\n",
    "from imperator import pop_analyses\n",
    "\n",
    "provinces = province_analyses.extract_provinces(source)\n",
    "countries = country_analyses.extract_countries(source)\n",
    "pops = pop_analyses.extract_pops(source)\n",
    "\n",
    "from ipywidgets import interact, IntSlider\n",
    "from IPython.display import display\n",
    "\n",
    "def freeze_header(df, num_rows=30, num_columns=10, step_rows=1,\n",
    "                  step_columns=1):\n",
    "    \"\"\"\n",
    "    Freeze the headers (column and index names) of a Pandas DataFrame. A widget\n",
    "    enables to slide through the rows and columns.\n",
    "\n",
    "    Parameters\n",
    "    ----------\n",
    "    df : Pandas DataFrame\n",
    "        DataFrame to display\n",
    "    num_rows : int, optional\n",
    "        Number of rows to display\n",
    "    num_columns : int, optional\n",
    "        Number of columns to display\n",
    "    step_rows : int, optional\n",
    "        Step in the rows\n",
    "    step_columns : int, optional\n",
    "        Step in the columns\n",
    "\n",
    "    Returns\n",
    "    -------\n",
    "    Displays the DataFrame with the widget\n",
    "    \"\"\"\n",
    "    @interact(last_row=IntSlider(min=min(num_rows, df.shape[0]),\n",
    "                                 max=df.shape[0],\n",
    "                                 step=step_rows,\n",
    "                                 description='rows',\n",
    "                                 readout=False,\n",
    "                                 disabled=False,\n",
    "                                 continuous_update=True,\n",
    "                                 orientation='horizontal',\n",
    "                                 slider_color='purple'),\n",
    "              last_column=IntSlider(min=min(num_columns, df.shape[1]),\n",
    "                                    max=df.shape[1],\n",
    "                                    step=step_columns,\n",
    "                                    description='columns',\n",
    "                                    readout=False,\n",
    "                                    disabled=False,\n",
    "                                    continuous_update=True,\n",
    "                                    orientation='horizontal',\n",
    "                                    slider_color='purple'))\n",
    "    def _freeze_header(last_row, last_column):\n",
    "        display(df.iloc[max(0, last_row-num_rows):last_row,\n",
    "                        max(0, last_column-num_columns):last_column])\n"
   ]
  },
  {
   "cell_type": "code",
   "execution_count": 3,
   "id": "f937b58e",
   "metadata": {
    "scrolled": false
   },
   "outputs": [
    {
     "data": {
      "application/vnd.jupyter.widget-view+json": {
       "model_id": "257511eb43f84aa18e863d1cd17a74e9",
       "version_major": 2,
       "version_minor": 0
      },
      "text/plain": [
       "interactive(children=(IntSlider(value=30, description='rows', max=115573, min=30, readout=False), IntSlider(va…"
      ]
     },
     "metadata": {},
     "output_type": "display_data"
    }
   ],
   "source": [
    "#countries\n",
    "#provinces\n",
    "freeze_header(pops)"
   ]
  },
  {
   "cell_type": "code",
   "execution_count": null,
   "id": "d981eed0",
   "metadata": {},
   "outputs": [],
   "source": []
  }
 ],
 "metadata": {
  "kernelspec": {
   "display_name": "Python 3 (ipykernel)",
   "language": "python",
   "name": "python3"
  },
  "language_info": {
   "codemirror_mode": {
    "name": "ipython",
    "version": 3
   },
   "file_extension": ".py",
   "mimetype": "text/x-python",
   "name": "python",
   "nbconvert_exporter": "python",
   "pygments_lexer": "ipython3",
   "version": "3.9.13"
  }
 },
 "nbformat": 4,
 "nbformat_minor": 5
}
