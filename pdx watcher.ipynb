{
 "cells": [
  {
   "cell_type": "code",
   "execution_count": 5,
   "id": "51682594",
   "metadata": {},
   "outputs": [],
   "source": [
    "jeu = \"imp\"\n",
    "multi=1\n",
    "pays=\"rome\"\n",
    "keyword=\"multi_test\"\n",
    "\n",
    "code_multi=[\"\",\"mp_\"]\n",
    "session_name = str(code_multi[multi])+pays+\"_\"+str(keyword)\n",
    "\n",
    "pollTime = 10*60 #in seconds\n",
    "\n",
    "from os import listdir\n",
    "from os.path import isfile, join\n",
    "import os\n",
    "from datetime import datetime\n",
    "import shutil\n",
    "import time\n",
    "import subprocess\n",
    "\n",
    "now = datetime.now()\n",
    "dt_string = now.strftime(\"%d/%m/%Y %H:%M:%S\")\n",
    "\n",
    "def fileWatcher(watched: str, pollTime: int):\n",
    "    stamp = os.stat(watched).st_mtime\n",
    "    while True:\n",
    "        \n",
    "        time.sleep(pollTime)\n",
    "\n",
    "        if os.stat(watched).st_mtime != stamp:\n",
    "            dif = \" (%s seconds ago)\" % (os.stat(watched).st_mtime - stamp)\n",
    "            stamp = os.stat(watched).st_mtime\n",
    "            date = datetime.fromtimestamp(stamp).strftime(\"%d-%m-%Y_%Hh%M\")\n",
    "            print(\"state changed: \"+date+dif)\n",
    "            #print(watched+\" should go to: \"+ jeu_path[\"imp\"][\"output\"]+session_name+jeu_path[\"imp\"][\"ext\"])\n",
    "            dest=jeu_path[\"imp\"][\"output\"]+session_name+date+jeu_path[\"imp\"][\"ext\"]\n",
    "            shutil.copyfile(watched, dest)\n",
    "            \n",
    "            print(dest)\n",
    "            \n",
    "            shell = str('rakaly\\\\rakaly.exe melt \"'+jeu_path[\"imp\"][\"output\"]+session_name+date+jeu_path[\"imp\"][\"ext\"]+'\"')\n",
    "            print(shell)\n",
    "            subprocess.call(shell)\n",
    "            \n",
    "            time.sleep(20)\n",
    "            \n",
    "            shell = str('rakaly\\\\rakaly.exe json \"'+jeu_path[\"imp\"][\"output\"]+session_name+date+\"_melted\"+jeu_path[\"imp\"][\"ext\"]+'\">\"'+jeu_path[\"imp\"][\"output\"]+session_name+date+'.json\"')\n",
    "            f = open(\"rakaly.bat\", \"w\")\n",
    "            f.write(shell)\n",
    "            f.close()\n",
    "            subprocess.call(\"rakaly.bat\")\n",
    "            os.remove(dest)\n",
    "            \n",
    "            time.sleep(20)\n",
    "            continue\n",
    "        \n",
    "        #print (\"check\")\n",
    "\n",
    "jeu_path={\"imp\":{\"input\":\"../Imperator/save games/\",\"output\":\"../Imperator/analyses/\",\"ext\":\".rome\"},\n",
    "          \"ck\":{\"input\":\"../Crusader Kings III/save games/\",\"output\":\"../Crusader Kings III/analyses/\",\"ext\":\".rome\"},\n",
    "          \"eu\":{\"input\":\"../Europa Universalis IV/save games/\",\"output\":\"../Europa Universalis IV/analyses/\",\"ext\":\".rome\"},\n",
    "          \"vic\":{\"input\":\"../Victoria 3/save games/\",\"output\":\"../Victoria 3/analyses/\",\"ext\":\".rome\"},\n",
    "          \"hoi\":{\"input\":\"../Hearts of Iron IV/save games/\",\"output\":\"../Hearts of Iron IV/analyses/\",\"ext\":\".rome\"}}\n",
    "\n",
    "watched=jeu_path[\"imp\"][\"input\"]+code_multi[multi]+\"autosave\"+jeu_path[\"imp\"][\"ext\"]"
   ]
  },
  {
   "cell_type": "code",
   "execution_count": 6,
   "id": "e8c10d80",
   "metadata": {
    "scrolled": false
   },
   "outputs": [
    {
     "name": "stdout",
     "output_type": "stream",
     "text": [
      "21/02/2023 14:24:09 starting watching mp_rome_multi_test\n"
     ]
    },
    {
     "ename": "KeyboardInterrupt",
     "evalue": "",
     "output_type": "error",
     "traceback": [
      "\u001b[1;31m---------------------------------------------------------------------------\u001b[0m",
      "\u001b[1;31mKeyboardInterrupt\u001b[0m                         Traceback (most recent call last)",
      "\u001b[1;32m~\\AppData\\Local\\Temp\\ipykernel_13428\\3395598769.py\u001b[0m in \u001b[0;36m<module>\u001b[1;34m\u001b[0m\n\u001b[0;32m      1\u001b[0m \u001b[0mprint\u001b[0m\u001b[1;33m(\u001b[0m\u001b[0mdt_string\u001b[0m\u001b[1;33m+\u001b[0m\u001b[1;34m\" starting watching \"\u001b[0m\u001b[1;33m+\u001b[0m\u001b[0msession_name\u001b[0m\u001b[1;33m)\u001b[0m\u001b[1;33m\u001b[0m\u001b[1;33m\u001b[0m\u001b[0m\n\u001b[1;32m----> 2\u001b[1;33m \u001b[0mfileWatcher\u001b[0m\u001b[1;33m(\u001b[0m\u001b[0mwatched\u001b[0m\u001b[1;33m,\u001b[0m\u001b[0mpollTime\u001b[0m\u001b[1;33m)\u001b[0m\u001b[1;33m\u001b[0m\u001b[1;33m\u001b[0m\u001b[0m\n\u001b[0m",
      "\u001b[1;32m~\\AppData\\Local\\Temp\\ipykernel_13428\\761332243.py\u001b[0m in \u001b[0;36mfileWatcher\u001b[1;34m(watched, pollTime)\u001b[0m\n\u001b[0;32m     24\u001b[0m     \u001b[1;32mwhile\u001b[0m \u001b[1;32mTrue\u001b[0m\u001b[1;33m:\u001b[0m\u001b[1;33m\u001b[0m\u001b[1;33m\u001b[0m\u001b[0m\n\u001b[0;32m     25\u001b[0m \u001b[1;33m\u001b[0m\u001b[0m\n\u001b[1;32m---> 26\u001b[1;33m         \u001b[0mtime\u001b[0m\u001b[1;33m.\u001b[0m\u001b[0msleep\u001b[0m\u001b[1;33m(\u001b[0m\u001b[0mpollTime\u001b[0m\u001b[1;33m)\u001b[0m\u001b[1;33m\u001b[0m\u001b[1;33m\u001b[0m\u001b[0m\n\u001b[0m\u001b[0;32m     27\u001b[0m \u001b[1;33m\u001b[0m\u001b[0m\n\u001b[0;32m     28\u001b[0m         \u001b[1;32mif\u001b[0m \u001b[0mos\u001b[0m\u001b[1;33m.\u001b[0m\u001b[0mstat\u001b[0m\u001b[1;33m(\u001b[0m\u001b[0mwatched\u001b[0m\u001b[1;33m)\u001b[0m\u001b[1;33m.\u001b[0m\u001b[0mst_mtime\u001b[0m \u001b[1;33m!=\u001b[0m \u001b[0mstamp\u001b[0m\u001b[1;33m:\u001b[0m\u001b[1;33m\u001b[0m\u001b[1;33m\u001b[0m\u001b[0m\n",
      "\u001b[1;31mKeyboardInterrupt\u001b[0m: "
     ]
    }
   ],
   "source": [
    "print(dt_string+\" starting watching \"+session_name)\n",
    "fileWatcher(watched,pollTime)"
   ]
  },
  {
   "cell_type": "code",
   "execution_count": null,
   "id": "5c658264",
   "metadata": {},
   "outputs": [],
   "source": []
  }
 ],
 "metadata": {
  "kernelspec": {
   "display_name": "Python 3 (ipykernel)",
   "language": "python",
   "name": "python3"
  },
  "language_info": {
   "codemirror_mode": {
    "name": "ipython",
    "version": 3
   },
   "file_extension": ".py",
   "mimetype": "text/x-python",
   "name": "python",
   "nbconvert_exporter": "python",
   "pygments_lexer": "ipython3",
   "version": "3.9.13"
  }
 },
 "nbformat": 4,
 "nbformat_minor": 5
}
