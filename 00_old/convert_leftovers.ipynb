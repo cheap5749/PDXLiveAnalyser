{
 "cells": [
  {
   "cell_type": "code",
   "execution_count": 134,
   "id": "10f62221",
   "metadata": {
    "scrolled": false
   },
   "outputs": [
    {
     "name": "stdout",
     "output_type": "stream",
     "text": [
      "----\n",
      "----\n",
      "3+325+0 = 328\n",
      "0\n"
     ]
    }
   ],
   "source": [
    "# import required module\n",
    "import os\n",
    "import shutil\n",
    "# assign directory\n",
    "directory = '../Imperator/analyses/'\n",
    "melted = []\n",
    "raw = []\n",
    "json = []\n",
    "m=0\n",
    "j = 0\n",
    "nm = 0\n",
    "#d'abord une liste des fichiers pas melté, ensuite une liste des fichiers meltés mais sans json\n",
    "for filename in os.listdir(directory):\n",
    "    f = os.path.join(directory, filename)\n",
    "    #and os.path.getsize(f)>100000000\n",
    "    if os.path.isfile(f) :\n",
    "        #print (f)\n",
    "        if f.find(\"_melted\") > 0:\n",
    "            melted.append(filename)\n",
    "            m += 1\n",
    "        elif f.find(\"json\") > 0:\n",
    "            json.append(filename)\n",
    "            j += 1\n",
    "        elif melted.count(filename) == 0:\n",
    "            middle=filename.find(\".\")\n",
    "            #filename= filename[:middle]\n",
    "            raw.append(filename)\n",
    "            nm += 1\n",
    "\n",
    "#print (melted)\n",
    "print (\"----\")\n",
    "#print (json)\n",
    "print (\"----\")\n",
    "#print (not_melted)\n",
    "#melted.count(filename)\n",
    "print (str(m) + \"+\" + str(j) + \"+\" + str(nm) + \" = \" + str(m+j+nm) )\n",
    "j = 0\n",
    "for x in melted:\n",
    "    middle=x.find(\"_melted\")\n",
    "    x= x[:middle]\n",
    "    if json.count(x+\".json\") == 0:\n",
    "        orig=\"../Imperator/analyses/\"+x+\"_melted.rome\"\n",
    "        dest=\"../Imperator/analyses/\"+x+\".json\"\n",
    "        j += 1\n",
    "        #print (melted.count(x+\"_melted.rome\"))\n",
    "        #shutil.copyfile(\"../Imperator/analyses/\"+x+\".rome\", dest)\n",
    "        #shell = \"\\n\"+str('rakaly\\\\rakaly.exe melt \"'+orig+'\"')\n",
    "        #print(shell)\n",
    "        shell = \"\\n\"+str('rakaly\\\\rakaly.exe json \"'+orig+'\">\"'+dest)\n",
    "        print (shell)\n",
    "        \n",
    "        f = open(\"leftovers.bat\", \"a\")\n",
    "        f.write(shell)\n",
    "        f.close()\n",
    "        #subprocess.call(\"rakaly.bat\")\n",
    "        #os.remove(orig)\n",
    "        \n",
    "        #subprocess.call(shell)\n",
    "print(j)"
   ]
  },
  {
   "cell_type": "code",
   "execution_count": null,
   "id": "9d924864",
   "metadata": {},
   "outputs": [],
   "source": []
  }
 ],
 "metadata": {
  "kernelspec": {
   "display_name": "Python 3 (ipykernel)",
   "language": "python",
   "name": "python3"
  },
  "language_info": {
   "codemirror_mode": {
    "name": "ipython",
    "version": 3
   },
   "file_extension": ".py",
   "mimetype": "text/x-python",
   "name": "python",
   "nbconvert_exporter": "python",
   "pygments_lexer": "ipython3",
   "version": "3.9.13"
  }
 },
 "nbformat": 4,
 "nbformat_minor": 5
}
