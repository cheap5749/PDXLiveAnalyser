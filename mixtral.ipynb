{
 "cells": [
  {
   "cell_type": "code",
   "execution_count": 21,
   "metadata": {},
   "outputs": [],
   "source": [
    "from langchain_community.llms import Ollama\n",
    "llm = Ollama(model=\"dolphin-mixtral\", temperature=0)\n",
    "# llm = Ollama(model=\"mixtral\")\n",
    "\n",
    "f = open(\"C:/Users/PH/Documents/Paradox Interactive/PDXModMaker/DOM_Spain_Missions.txt\", \"r\")\n",
    "# f = open(\"imperator/country_analyses.py\", \"r\")\n",
    "\n",
    "output = llm.invoke(\"You are a python developper. A txt file is structured following this syntax: \\n\"+f.read()+\"\\n Create a python script to extract these values and order them in JSON format.\")"
   ]
  },
  {
   "cell_type": "code",
   "execution_count": 25,
   "metadata": {},
   "outputs": [
    {
     "data": {
      "text/markdown": [
       " You can use Python's built-in `json` module to create a script that reads the text file, processes the data according to your requirements, and then writes it to a new JSON file. Here's an example:\n",
       "\n",
       "```python\n",
       "import json\n",
       "\n",
       "def extract_missions(filename):\n",
       "    with open(filename, \"r\") as file:\n",
       "        data = file.read().replace('\\n', '').replace('= ', ': ')  # remove newlines and change equal sign spacing\n",
       "        missions = {}\n",
       "\n",
       "        for line in data.split('}')[:-1]:  # Split the text by '}' and exclude the last empty string\n",
       "            mission_name, properties = line.split('{', 1)\n",
       "            properties = dict(i.strip().replace(' ', '') for i in properties.strip().split('='))\n",
       "            missions[mission_name] = properties\n",
       "\n",
       "        return missions\n",
       "\n",
       "def write_to_json(missions, filename):\n",
       "    with open(filename, \"w\") as file:\n",
       "        json.dump(missions, file, indent=4)\n",
       "\n",
       "if __name__ == \"__main__\":\n",
       "    input_file = \"input_missions.txt\"  # Replace this with your actual input file name\n",
       "    output_file = \"output_missions.json\"  # Replace this with your desired JSON file name\n",
       "    extracted_missions = extract_missions(input_file)\n",
       "    write_to_json(extracted_missions, output_file)\n",
       "```\n",
       "\n",
       "This script will create a new file named `output_missions.json` in the same directory as your Python file. This JSON file will contain the extracted missions from the input text file. The keys are the mission names and the values are dictionaries containing the properties of each mission.\n",
       "\n",
       "Note: This code assumes that your input text file follows the exact format you provided, with no extra spaces or characters around the equal signs, and no other text in the file. Make sure to adapt the code according to your specific needs if the input data is different."
      ],
      "text/plain": [
       "<IPython.core.display.Markdown object>"
      ]
     },
     "execution_count": 25,
     "metadata": {},
     "output_type": "execute_result"
    }
   ],
   "source": [
    "from IPython.display import Markdown as md\n",
    "md(output)\n",
    "# output"
   ]
  },
  {
   "cell_type": "code",
   "execution_count": 23,
   "metadata": {},
   "outputs": [
    {
     "ename": "ValueError",
     "evalue": "dictionary update sequence element #0 has length 50; 2 is required",
     "output_type": "error",
     "traceback": [
      "\u001b[1;31m---------------------------------------------------------------------------\u001b[0m",
      "\u001b[1;31mValueError\u001b[0m                                Traceback (most recent call last)",
      "Cell \u001b[1;32mIn[23], line 22\u001b[0m\n\u001b[0;32m     20\u001b[0m input_file \u001b[38;5;241m=\u001b[39m \u001b[38;5;124m\"\u001b[39m\u001b[38;5;124mC:/Users/PH/Documents/Paradox Interactive/PDXModMaker/DOM_Spain_Missions.txt\u001b[39m\u001b[38;5;124m\"\u001b[39m  \u001b[38;5;66;03m# Replace this with your actual input file name\u001b[39;00m\n\u001b[0;32m     21\u001b[0m output_file \u001b[38;5;241m=\u001b[39m \u001b[38;5;124m\"\u001b[39m\u001b[38;5;124mC:/Users/PH/Documents/Paradox Interactive/PDXModMaker/output_missions.json\u001b[39m\u001b[38;5;124m\"\u001b[39m  \u001b[38;5;66;03m# Replace this with your desired JSON file name\u001b[39;00m\n\u001b[1;32m---> 22\u001b[0m extracted_missions \u001b[38;5;241m=\u001b[39m \u001b[43mextract_missions\u001b[49m\u001b[43m(\u001b[49m\u001b[43minput_file\u001b[49m\u001b[43m)\u001b[49m\n\u001b[0;32m     23\u001b[0m write_to_json(extracted_missions, output_file)\n",
      "Cell \u001b[1;32mIn[23], line 10\u001b[0m, in \u001b[0;36mextract_missions\u001b[1;34m(filename)\u001b[0m\n\u001b[0;32m      8\u001b[0m \u001b[38;5;28;01mfor\u001b[39;00m line \u001b[38;5;129;01min\u001b[39;00m data\u001b[38;5;241m.\u001b[39msplit(\u001b[38;5;124m'\u001b[39m\u001b[38;5;124m}\u001b[39m\u001b[38;5;124m'\u001b[39m)[:\u001b[38;5;241m-\u001b[39m\u001b[38;5;241m1\u001b[39m]:  \u001b[38;5;66;03m# Split the text by '}' and exclude the last empty string\u001b[39;00m\n\u001b[0;32m      9\u001b[0m     mission_name, properties \u001b[38;5;241m=\u001b[39m line\u001b[38;5;241m.\u001b[39msplit(\u001b[38;5;124m'\u001b[39m\u001b[38;5;124m{\u001b[39m\u001b[38;5;124m'\u001b[39m, \u001b[38;5;241m1\u001b[39m)\n\u001b[1;32m---> 10\u001b[0m     properties \u001b[38;5;241m=\u001b[39m \u001b[38;5;28;43mdict\u001b[39;49m\u001b[43m(\u001b[49m\u001b[43mi\u001b[49m\u001b[38;5;241;43m.\u001b[39;49m\u001b[43mstrip\u001b[49m\u001b[43m(\u001b[49m\u001b[43m)\u001b[49m\u001b[38;5;241;43m.\u001b[39;49m\u001b[43mreplace\u001b[49m\u001b[43m(\u001b[49m\u001b[38;5;124;43m'\u001b[39;49m\u001b[38;5;124;43m \u001b[39;49m\u001b[38;5;124;43m'\u001b[39;49m\u001b[43m,\u001b[49m\u001b[43m \u001b[49m\u001b[38;5;124;43m'\u001b[39;49m\u001b[38;5;124;43m'\u001b[39;49m\u001b[43m)\u001b[49m\u001b[43m \u001b[49m\u001b[38;5;28;43;01mfor\u001b[39;49;00m\u001b[43m \u001b[49m\u001b[43mi\u001b[49m\u001b[43m \u001b[49m\u001b[38;5;129;43;01min\u001b[39;49;00m\u001b[43m \u001b[49m\u001b[43mproperties\u001b[49m\u001b[38;5;241;43m.\u001b[39;49m\u001b[43mstrip\u001b[49m\u001b[43m(\u001b[49m\u001b[43m)\u001b[49m\u001b[38;5;241;43m.\u001b[39;49m\u001b[43msplit\u001b[49m\u001b[43m(\u001b[49m\u001b[38;5;124;43m'\u001b[39;49m\u001b[38;5;124;43m=\u001b[39;49m\u001b[38;5;124;43m'\u001b[39;49m\u001b[43m)\u001b[49m\u001b[43m)\u001b[49m\n\u001b[0;32m     11\u001b[0m     missions[mission_name] \u001b[38;5;241m=\u001b[39m properties\n\u001b[0;32m     13\u001b[0m \u001b[38;5;28;01mreturn\u001b[39;00m missions\n",
      "\u001b[1;31mValueError\u001b[0m: dictionary update sequence element #0 has length 50; 2 is required"
     ]
    }
   ],
   "source": [
    "import json\n",
    "\n",
    "def extract_missions(filename):\n",
    "    with open(filename, \"r\") as file:\n",
    "        data = file.read().replace('\\n', '').replace('= ', ': ')  # remove newlines and change equal sign spacing\n",
    "        missions = {}\n",
    "\n",
    "        for line in data.split('}')[:-1]:  # Split the text by '}' and exclude the last empty string\n",
    "            mission_name, properties = line.split('{', 1)\n",
    "            properties = dict(i.strip().replace(' ', '') for i in properties.strip().split('='))\n",
    "            missions[mission_name] = properties\n",
    "\n",
    "        return missions\n",
    "\n",
    "def write_to_json(missions, filename):\n",
    "    with open(filename, \"w\") as file:\n",
    "        json.dump(missions, file, indent=4)\n",
    "\n",
    "if __name__ == \"__main__\":\n",
    "    input_file = \"C:/Users/PH/Documents/Paradox Interactive/PDXModMaker/DOM_Spain_Missions.txt\"  # Replace this with your actual input file name\n",
    "    output_file = \"C:/Users/PH/Documents/Paradox Interactive/PDXModMaker/output_missions.json\"  # Replace this with your desired JSON file name\n",
    "    extracted_missions = extract_missions(input_file)\n",
    "    write_to_json(extracted_missions, output_file)"
   ]
  }
 ],
 "metadata": {
  "kernelspec": {
   "display_name": "Python 3",
   "language": "python",
   "name": "python3"
  },
  "language_info": {
   "codemirror_mode": {
    "name": "ipython",
    "version": 3
   },
   "file_extension": ".py",
   "mimetype": "text/x-python",
   "name": "python",
   "nbconvert_exporter": "python",
   "pygments_lexer": "ipython3",
   "version": "3.12.0"
  }
 },
 "nbformat": 4,
 "nbformat_minor": 2
}
