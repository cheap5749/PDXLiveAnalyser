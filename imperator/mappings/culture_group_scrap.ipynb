{
 "cells": [
  {
   "cell_type": "code",
   "execution_count": 135,
   "id": "ba4ab282-fddd-49e3-ade4-ba4ac1c726de",
   "metadata": {},
   "outputs": [],
   "source": [
    "import os\n",
    "import pandas\n",
    "import csv\n",
    "\n",
    "directory_in_str=\"C:/Users/PH/Documents/Paradox Interactive/Imperator/mod/neurchi/common/cultures\"\n",
    "directory = os.fsencode(directory_in_str)\n",
    "\n",
    "group_list=[]\n",
    "culture=[]\n",
    "count_groups=0\n",
    "exclusion_list=[\"family\",\"culture\",\"barbarian_names\", \"color\", \"levy_template\", \"primary\", \"second\", \"flank\",\"primary_navy\",\"secondary_navy\",\"flank_navy\",\"male_names\",\"female_names\",\"graphical_culture\",\"None\",\"ethnicities\", \"10\",\"nickname\",\"female_order\"]\n",
    "\n",
    "for file in os.listdir(directory):\n",
    "    filename = os.fsdecode(file)\n",
    "    record_switch = [0,0]\n",
    "    if filename.endswith(\".txt\"):\n",
    "        group = filename[:group.find(\".txt\")-3]\n",
    "        group = group[group.find(\"_\")+1:]\n",
    "        count_groups=count_groups+1\n",
    "        group_list.append([group,filename])\n",
    "\n",
    "        f = open(os.path.join(directory,file), \"r\", encoding='utf-8-sig')\n",
    "\n",
    "        culture.append([group,[x[:x.find(\"=\")].strip() for x in f if \"=\" in x and not(x[:x.find(\"=\")].strip() in exclusion_list) and not( group in x)]])\n",
    "\n",
    "#truc = pandas.DataFrame(culture)\n",
    "# print (truc)\n",
    "# [print(i) for i in culture]\n",
    "truc=[]\n",
    "for i in culture:\n",
    "    for j in i:\n",
    "        if type(j)!=list:\n",
    "            group = j\n",
    "        if type(j)==list:\n",
    "            for k in j:\n",
    "                truc.append([k,group])\n",
    "truc = pandas.DataFrame(truc)\n",
    "truc.columns = [\"culture\",\"group\"]\n",
    "truc.set_index(\"culture\", inplace=True)\n",
    "truc.to_csv(\"cultures.csv\",sep=\";\")"
   ]
  },
  {
   "cell_type": "code",
   "execution_count": null,
   "metadata": {},
   "outputs": [],
   "source": []
  }
 ],
 "metadata": {
  "kernelspec": {
   "display_name": "Python 3 (ipykernel)",
   "language": "python",
   "name": "python3"
  },
  "language_info": {
   "codemirror_mode": {
    "name": "ipython",
    "version": 3
   },
   "file_extension": ".py",
   "mimetype": "text/x-python",
   "name": "python",
   "nbconvert_exporter": "python",
   "pygments_lexer": "ipython3",
   "version": "3.12.0"
  }
 },
 "nbformat": 4,
 "nbformat_minor": 5
}
