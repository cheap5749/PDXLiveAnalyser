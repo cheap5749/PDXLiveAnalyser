{
 "cells": [
  {
   "cell_type": "code",
   "execution_count": 1,
   "id": "51682594",
   "metadata": {},
   "outputs": [
    {
     "ename": "SyntaxError",
     "evalue": "invalid syntax (3402804841.py, line 37)",
     "output_type": "error",
     "traceback": [
      "\u001b[1;36m  Cell \u001b[1;32mIn[1], line 37\u001b[1;36m\u001b[0m\n\u001b[1;33m    if os.stat(watched).st_mtime != stamp or 1=1:\u001b[0m\n\u001b[1;37m                                              ^\u001b[0m\n\u001b[1;31mSyntaxError\u001b[0m\u001b[1;31m:\u001b[0m invalid syntax\n"
     ]
    }
   ],
   "source": [
    "from imperator import defines\n",
    "from imperator import config\n",
    "from imperator import extract\n",
    "from os import listdir\n",
    "from os.path import isfile, join\n",
    "import os\n",
    "from datetime import datetime\n",
    "import shutil\n",
    "import time\n",
    "import subprocess\n",
    "\n",
    "multi= int(config.is_multiplayer)\n",
    "pays=config.pays\n",
    "keyword=config.keyword\n",
    "code_multi=config.code_multi\n",
    "\n",
    "session_name = str(code_multi[multi])+pays+\"_\"+str(keyword)\n",
    "\n",
    "pollTime = config.pollTime\n",
    "jeu_path = config.jeu_path\n",
    "\n",
    "\n",
    "\n",
    "now = datetime.now()\n",
    "dt_string = now.strftime(\"%d/%m/%Y %H:%M:%S\")\n",
    "\n",
    "def fileWatcher(watched: str, pollTime: int):\n",
    "    stamp = os.stat(watched).st_mtime\n",
    "    if os.path.isdir(jeu_path[\"imp\"][\"output\"]+\"00_temp/\"+session_name)==False:\n",
    "                os.mkdir(jeu_path[\"imp\"][\"output\"]+\"00_temp/\"+session_name) \n",
    "    if os.path.isdir(jeu_path[\"imp\"][\"output\"]+\"01_json/\"+session_name)==False:\n",
    "                os.mkdir(jeu_path[\"imp\"][\"output\"]+\"01_json/\"+session_name) \n",
    "    while True:\n",
    "        \n",
    "        time.sleep(pollTime)\n",
    "\n",
    "        if os.stat(watched).st_mtime != stamp or 1==1:\n",
    "            dif = \" (%s seconds ago)\" % (os.stat(watched).st_mtime - stamp)\n",
    "            stamp = os.stat(watched).st_mtime\n",
    "            date = datetime.fromtimestamp(stamp).strftime(\"%d-%m-%Y_%Hh%M\")\n",
    "            print(\"state changed: \"+date+dif)\n",
    "\n",
    "            dest=jeu_path[\"imp\"][\"output\"]+\"00_temp/\"+session_name+\"/\"+session_name+jeu_path[\"imp\"][\"ext\"]\n",
    "            \n",
    "            shutil.copyfile(watched, dest)\n",
    "            \n",
    "            autosave=jeu_path[\"imp\"][\"output\"]+\"00_temp/\"+session_name+\"/\"+session_name+jeu_path[\"imp\"][\"ext\"]\n",
    "            shell = str('rakaly\\\\rakaly.exe melt \"'+autosave+'\"')\n",
    "            print(shell)\n",
    "            subprocess.call(shell)\n",
    "            \n",
    "            time.sleep(20)\n",
    "            \n",
    "            melted=jeu_path[\"imp\"][\"output\"]+\"00_temp/\"+session_name+\"/\"+session_name+\"_melted\"+jeu_path[\"imp\"][\"ext\"]\n",
    "            json=jeu_path[\"imp\"][\"output\"]+\"01_json/\"+session_name+\"/\"+session_name+date+'.json\"'\n",
    "            \n",
    "            shell = str('rakaly\\\\rakaly.exe json \"'+melted+'\">\"'+json)\n",
    "            print(shell)\n",
    "            f = open(\"rakaly.bat\", \"w\")\n",
    "            f.write(shell)\n",
    "            f.close()\n",
    "            subprocess.call(\"rakaly.bat\")\n",
    "            os.remove(dest)\n",
    "            \n",
    "            time.sleep(20)\n",
    "            if config.direct_extract==True:\n",
    "                print (\"extraction réalisée: \"+json)\n",
    "            continue\n",
    "        \n",
    "        print (\"check - \"+datetime.now().strftime(\"%d/%m/%Y %H:%M:%S\"))\n",
    "\n",
    "watched=jeu_path[\"imp\"][\"input\"]+code_multi[multi]+\"autosave\"+jeu_path[\"imp\"][\"ext\"]"
   ]
  },
  {
   "cell_type": "code",
   "execution_count": null,
   "id": "e8c10d80",
   "metadata": {},
   "outputs": [],
   "source": [
    "print(dt_string+\" starting watching \"+session_name)\n",
    "fileWatcher(watched,pollTime)"
   ]
  },
  {
   "cell_type": "code",
   "execution_count": null,
   "id": "5c658264",
   "metadata": {},
   "outputs": [],
   "source": []
  }
 ],
 "metadata": {
  "kernelspec": {
   "display_name": "Python 3 (ipykernel)",
   "language": "python",
   "name": "python3"
  },
  "language_info": {
   "codemirror_mode": {
    "name": "ipython",
    "version": 3
   },
   "file_extension": ".py",
   "mimetype": "text/x-python",
   "name": "python",
   "nbconvert_exporter": "python",
   "pygments_lexer": "ipython3",
   "version": "3.12.0"
  }
 },
 "nbformat": 4,
 "nbformat_minor": 5
}
