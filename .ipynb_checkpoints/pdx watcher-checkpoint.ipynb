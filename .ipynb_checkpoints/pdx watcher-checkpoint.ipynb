{
 "cells": [
  {
   "cell_type": "code",
   "execution_count": 3,
   "id": "51682594",
   "metadata": {},
   "outputs": [],
   "source": [
    "jeu = \"imp\"\n",
    "multi=1\n",
    "pays=\"rome\"\n",
    "keyword=\"multi_test\"\n",
    "\n",
    "code_multi=[\"\",\"mp_\"]\n",
    "session_name = str(code_multi[multi])+pays+\"_\"+str(keyword)\n",
    "\n",
    "pollTime = 10*60 #in seconds\n",
    "\n",
    "from os import listdir\n",
    "from os.path import isfile, join\n",
    "import os\n",
    "from datetime import datetime\n",
    "import shutil\n",
    "import time\n",
    "import subprocess\n",
    "\n",
    "now = datetime.now()\n",
    "dt_string = now.strftime(\"%d/%m/%Y %H:%M:%S\")\n",
    "\n",
    "def fileWatcher(watched: str, pollTime: int):\n",
    "    stamp = os.stat(watched).st_mtime\n",
    "    while True:\n",
    "        \n",
    "        time.sleep(pollTime)\n",
    "\n",
    "        if os.stat(watched).st_mtime != stamp:\n",
    "            dif = \" (%s seconds ago)\" % (os.stat(watched).st_mtime - stamp)\n",
    "            stamp = os.stat(watched).st_mtime\n",
    "            date = datetime.fromtimestamp(stamp).strftime(\"%d-%m-%Y_%Hh%M\")\n",
    "            print(\"state changed: \"+date+dif)\n",
    "            #print(watched+\" should go to: \"+ jeu_path[\"imp\"][\"output\"]+session_name+jeu_path[\"imp\"][\"ext\"])\n",
    "            dest=jeu_path[\"imp\"][\"output\"]+session_name+date+jeu_path[\"imp\"][\"ext\"]\n",
    "            shutil.copyfile(watched, dest)\n",
    "            \n",
    "            \n",
    "            \n",
    "            shell = str('rakaly\\\\rakaly.exe melt \"'+jeu_path[\"imp\"][\"output\"]+session_name+date+jeu_path[\"imp\"][\"ext\"]+'\"')\n",
    "            print(shell)\n",
    "            subprocess.call(shell)\n",
    "            \n",
    "            time.sleep(20)\n",
    "            \n",
    "            shell = str('rakaly\\\\rakaly.exe json \"'+jeu_path[\"imp\"][\"output\"]+session_name+date+\"_melted\"+jeu_path[\"imp\"][\"ext\"]+'\">\"'+jeu_path[\"imp\"][\"output\"]+session_name+date+'.json\"')\n",
    "            f = open(\"rakaly.bat\", \"w\")\n",
    "            f.write(shell)\n",
    "            f.close()\n",
    "            subprocess.call(\"rakaly.bat\")\n",
    "            os.remove(dest)\n",
    "            \n",
    "            time.sleep(20)\n",
    "            continue\n",
    "        \n",
    "        #print (\"check\")\n",
    "\n",
    "jeu_path={\"imp\":{\"input\":\"../Imperator/save games/\",\"output\":\"../Imperator/analyses/\",\"ext\":\".rome\"},\n",
    "          \"ck\":{\"input\":\"../Crusader Kings III/save games/\",\"output\":\"../Crusader Kings III/analyses/\",\"ext\":\".rome\"},\n",
    "          \"eu\":{\"input\":\"../Europa Universalis IV/save games/\",\"output\":\"../Europa Universalis IV/analyses/\",\"ext\":\".rome\"},\n",
    "          \"vic\":{\"input\":\"../Victoria 3/save games/\",\"output\":\"../Victoria 3/analyses/\",\"ext\":\".rome\"},\n",
    "          \"hoi\":{\"input\":\"../Hearts of Iron IV/save games/\",\"output\":\"../Hearts of Iron IV/analyses/\",\"ext\":\".rome\"}}\n",
    "\n",
    "watched=jeu_path[\"imp\"][\"input\"]+code_multi[multi]+\"autosave\"+jeu_path[\"imp\"][\"ext\"]"
   ]
  },
  {
   "cell_type": "code",
   "execution_count": null,
   "id": "e8c10d80",
   "metadata": {
    "scrolled": false
   },
   "outputs": [
    {
     "name": "stdout",
     "output_type": "stream",
     "text": [
      "20/02/2023 21:29:54 starting watching mp_rome_multi_test\n",
      "state changed: 20-02-2023_21h38 (85729.48469638824 seconds ago)\n",
      "rakaly\\rakaly.exe melt \"../Imperator/analyses/mp_rome_multi_test20-02-2023_21h38.rome\"\n",
      "state changed: 20-02-2023_21h50 (702.8647003173828 seconds ago)\n",
      "rakaly\\rakaly.exe melt \"../Imperator/analyses/mp_rome_multi_test20-02-2023_21h50.rome\"\n",
      "state changed: 20-02-2023_21h59 (547.0394687652588 seconds ago)\n",
      "rakaly\\rakaly.exe melt \"../Imperator/analyses/mp_rome_multi_test20-02-2023_21h59.rome\"\n",
      "state changed: 20-02-2023_22h08 (544.1549372673035 seconds ago)\n",
      "rakaly\\rakaly.exe melt \"../Imperator/analyses/mp_rome_multi_test20-02-2023_22h08.rome\"\n",
      "state changed: 20-02-2023_22h18 (595.1770060062408 seconds ago)\n",
      "rakaly\\rakaly.exe melt \"../Imperator/analyses/mp_rome_multi_test20-02-2023_22h18.rome\"\n",
      "state changed: 20-02-2023_22h32 (794.0067834854126 seconds ago)\n",
      "rakaly\\rakaly.exe melt \"../Imperator/analyses/mp_rome_multi_test20-02-2023_22h32.rome\"\n",
      "state changed: 20-02-2023_22h40 (526.6987733840942 seconds ago)\n",
      "rakaly\\rakaly.exe melt \"../Imperator/analyses/mp_rome_multi_test20-02-2023_22h40.rome\"\n",
      "state changed: 20-02-2023_22h53 (781.2730481624603 seconds ago)\n",
      "rakaly\\rakaly.exe melt \"../Imperator/analyses/mp_rome_multi_test20-02-2023_22h53.rome\"\n"
     ]
    }
   ],
   "source": [
    "print(dt_string+\" starting watching \"+session_name)\n",
    "fileWatcher(watched,pollTime)"
   ]
  },
  {
   "cell_type": "code",
   "execution_count": null,
   "id": "aa467f6c",
   "metadata": {},
   "outputs": [],
   "source": []
  }
 ],
 "metadata": {
  "kernelspec": {
   "display_name": "Python 3 (ipykernel)",
   "language": "python",
   "name": "python3"
  },
  "language_info": {
   "codemirror_mode": {
    "name": "ipython",
    "version": 3
   },
   "file_extension": ".py",
   "mimetype": "text/x-python",
   "name": "python",
   "nbconvert_exporter": "python",
   "pygments_lexer": "ipython3",
   "version": "3.9.13"
  }
 },
 "nbformat": 4,
 "nbformat_minor": 5
}
