{
 "cells": [
  {
   "cell_type": "code",
   "execution_count": 10,
   "id": "97864ea7",
   "metadata": {},
   "outputs": [],
   "source": [
    "import pandas\n",
    "import pandasql\n",
    "from sklearn import datasets"
   ]
  },
  {
   "cell_type": "code",
   "execution_count": 11,
   "id": "62024b44",
   "metadata": {},
   "outputs": [
    {
     "name": "stderr",
     "output_type": "stream",
     "text": [
      "C:\\Users\\PH\\AppData\\Local\\Temp\\ipykernel_6388\\1107037054.py:1: FutureWarning: In a future version of pandas all arguments of read_csv except for the argument 'filepath_or_buffer' will be keyword-only.\n",
      "  provinces = pandas.read_csv(\"../Imperator/analyses/Scythia_528_provs.csv\",\";\")\n"
     ]
    }
   ],
   "source": [
    "provinces = pandas.read_csv(\"../Imperator/analyses/Scythia_528_provs.csv\",\";\")"
   ]
  },
  {
   "cell_type": "code",
   "execution_count": 12,
   "id": "30891d40",
   "metadata": {},
   "outputs": [
    {
     "name": "stderr",
     "output_type": "stream",
     "text": [
      "C:\\Users\\PH\\AppData\\Local\\Temp\\ipykernel_6388\\3805078549.py:1: FutureWarning: In a future version of pandas all arguments of read_csv except for the argument 'filepath_or_buffer' will be keyword-only.\n",
      "  pops = pandas.read_csv(\"../Imperator/analyses/Scythia_528_pops.csv\",\";\")\n"
     ]
    }
   ],
   "source": [
    "pops = pandas.read_csv(\"../Imperator/analyses/Scythia_528_pops.csv\",\";\")"
   ]
  },
  {
   "cell_type": "code",
   "execution_count": 14,
   "id": "42826bc4",
   "metadata": {},
   "outputs": [
    {
     "name": "stdout",
     "output_type": "stream",
     "text": [
      "<class 'pandas.core.frame.DataFrame'>\n",
      "<class 'pandas.core.series.Series'>\n"
     ]
    }
   ],
   "source": [
    "df_feature = datasets.load_iris(as_frame = True)['data']\n",
    "df_target = datasets.load_iris(as_frame = True)['target']\n",
    "print (type(df_feature))\n",
    "print (type(df_target))\n",
    "q = \"SELECT * FROM df_target LIMIT 3\"\n",
    "sqldf(q, globals())"
   ]
  },
  {
   "cell_type": "code",
   "execution_count": null,
   "id": "417ec951",
   "metadata": {},
   "outputs": [],
   "source": []
  }
 ],
 "metadata": {
  "kernelspec": {
   "display_name": "Python 3 (ipykernel)",
   "language": "python",
   "name": "python3"
  },
  "language_info": {
   "codemirror_mode": {
    "name": "ipython",
    "version": 3
   },
   "file_extension": ".py",
   "mimetype": "text/x-python",
   "name": "python",
   "nbconvert_exporter": "python",
   "pygments_lexer": "ipython3",
   "version": "3.9.13"
  }
 },
 "nbformat": 4,
 "nbformat_minor": 5
}
