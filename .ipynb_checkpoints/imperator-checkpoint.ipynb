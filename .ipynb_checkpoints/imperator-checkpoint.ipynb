{
 "cells": [
  {
   "cell_type": "code",
   "execution_count": 1,
   "id": "c8d2acbe",
   "metadata": {
    "scrolled": true
   },
   "outputs": [],
   "source": [
    "import os\n",
    "import sys\n",
    "import pandas\n",
    "import time\n",
    "import csv\n",
    "import json\n",
    "import openpyxl\n",
    "import matplotlib.pyplot as plt\n",
    "from ipywidgets import interact, IntSlider\n",
    "from IPython.display import display\n",
    "import locale\n",
    "#%autoreload 1\n",
    "\n",
    "#because shitty duplicate keys, now there is a global duplicate count, and every object whose key is duplicate, like \"ruler_term\" has now it's own duplicate number\n",
    "global global_dupl_count\n",
    "global_dupl_count=0\n",
    "def dict_raise_on_duplicates(ordered_pairs):\n",
    "    \"\"\"Reject duplicate keys.\"\"\"\n",
    "    global global_dupl_count\n",
    "    d = {}\n",
    "    for k, v in ordered_pairs:\n",
    "        if k in d:\n",
    "            global_dupl_count=global_dupl_count+1\n",
    "            d[k+str(global_dupl_count)] = v\n",
    "        else:\n",
    "            d[k] = v\n",
    "    return d\n",
    "\n",
    "def reload_package(root_module):\n",
    "    package_name = root_module.__name__\n",
    "\n",
    "    # get a reference to each loaded module\n",
    "    loaded_package_modules = dict([\n",
    "        (key, value) for key, value in sys.modules.items() \n",
    "        if key.startswith(package_name)])\n",
    "\n",
    "    # delete references to these loaded modules from sys.modules\n",
    "    for key in loaded_package_modules:\n",
    "        del sys.modules[key]\n",
    "\n",
    "    # load each of the modules again; \n",
    "    # make old modules share state with new modules\n",
    "    for key in loaded_package_modules:\n",
    "\n",
    "        newmodule = __import__(key)\n",
    "        oldmodule = loaded_package_modules[key]\n",
    "        oldmodule.__dict__.clear()\n",
    "        oldmodule.__dict__.update(newmodule.__dict__)\n",
    "\n",
    "def freeze_header(df, num_rows=30, num_columns=10, step_rows=1,\n",
    "                  step_columns=1):\n",
    "\n",
    "    @interact(last_row=IntSlider(min=min(num_rows, df.shape[0]),\n",
    "                                 max=df.shape[0],\n",
    "                                 step=step_rows,\n",
    "                                 description='rows',\n",
    "                                 readout=False,\n",
    "                                 disabled=False,\n",
    "                                 continuous_update=True,\n",
    "                                 orientation='horizontal',\n",
    "                                 slider_color='purple'),\n",
    "              last_column=IntSlider(min=min(num_columns, df.shape[1]),\n",
    "                                    max=df.shape[1],\n",
    "                                    step=step_columns,\n",
    "                                    description='columns',\n",
    "                                    readout=False,\n",
    "                                    disabled=False,\n",
    "                                    continuous_update=True,\n",
    "                                    orientation='horizontal',\n",
    "                                    slider_color='purple'))\n",
    "    def _freeze_header(last_row, last_column):\n",
    "        display(df.iloc[max(0, last_row-num_rows):last_row,\n",
    "                        max(0, last_column-num_columns):last_column])\n",
    "\n",
    "%matplotlib inline\n",
    "plt.rcParams['figure.figsize'] = (12, 10)\n",
    "\n",
    "# This one is optional -- change graphs to SVG\n",
    "# Only use if you don't have a lot of points/lines\n",
    "# on your graph.\n",
    "# Can also just use ['retina'] if you don't want SVG.\n",
    "%config InlineBackend.figure_formats = ['retina', 'svg']\n",
    "\n",
    "\n",
    "#filepath = \"../Imperator/save games/\"\n",
    "filepath = \"D:/python/Imperator/analyses/\"\n",
    "filename = \"mp_rome_grand_camp_821\"\n",
    "savegame = filepath+filename+\".json\"\n",
    "\n",
    "with open(savegame, encoding=\"utf-8\") as source:\n",
    "    source=json.load(source,object_pairs_hook=dict_raise_on_duplicates)\n",
    "#with open(\"imperator/mappings/countries_names.csv\") as countries_names:\n",
    "#    countries_names = pandas.read_csv(countries_names, sep=\";\", header=None)\n",
    "#    countries_names.columns = [\"country_name_key\", \"country_name\"]\n",
    "        "
   ]
  },
  {
   "cell_type": "code",
   "execution_count": 8,
   "id": "54f8151a",
   "metadata": {
    "scrolled": true
   },
   "outputs": [],
   "source": [
    "from imperator import country_analyses\n",
    "from imperator import state_analyses\n",
    "from imperator import province_analyses\n",
    "\n",
    "from imperator import pop_analyses\n",
    "from imperator import char_analyses\n",
    "from imperator import rulerterm_analyses\n",
    "\n",
    "from imperator import war_analyses\n",
    "from imperator import battle_analyses\n",
    "\n",
    "reload_package(country_analyses)\n",
    "from imperator import country_analyses\n",
    "\n",
    "#rulerterms = rulerterm_analyses.extract(source)\n",
    "#provinces = province_analyses.extract(source)\n",
    "countries = country_analyses.extract(source)\n",
    "provinces = province_analyses.extract(source)\n",
    "#pops = pop_analyses.extract(source)\n",
    "#chars = char_analyses.extract(source)\n",
    "#wars = war_analyses.extract(source)\n",
    "#battles = battle_analyses.extract(source)\n",
    "\n",
    "#countries[\"country_name_key\"]=countries[\"historical\"]\n",
    "#countries[\"total_income\"]=round(countries[\"economy_lastmonth_tax_income\"]+countries[\"economy_lastmonth_tax_income\"]+countries[\"economy_lastmonth_tax_income\"])\n",
    "#countries = countries.sort_values(\"total_holdings\",ascending=False).query('total_income > 10 & total_holdings > 0')\n",
    "\n",
    "#with pandas.ExcelWriter(\"D:/python/\"+filename+\".xlsx\") as writer:\n",
    "\n",
    "    #rulerterms.to_excel(writer, sheet_name='rulers')  \n",
    "    #countries.to_excel(writer, sheet_name='countries')  \n",
    "    #provinces.to_excel(writer, sheet_name='provinces')  \n",
    "    #pops.to_excel(writer, sheet_name='pops')  \n",
    "    #chars.to_excel(writer, sheet_name='chars')  \n",
    "    #wars.to_excel(writer, sheet_name='wars')\n",
    "    #battles.to_excel(writer, sheet_name='battles')\n",
    "\n"
   ]
  },
  {
   "cell_type": "code",
   "execution_count": 9,
   "id": "7b92e56d-e3cb-4b14-afb4-eb97db926c15",
   "metadata": {
    "scrolled": true
   },
   "outputs": [
    {
     "data": {
      "application/vnd.jupyter.widget-view+json": {
       "model_id": "29812e199ce24d08ad4b41b580113be6",
       "version_major": 2,
       "version_minor": 0
      },
      "text/plain": [
       "interactive(children=(IntSlider(value=30, description='rows', max=98651, min=30, readout=False), IntSlider(val…"
      ]
     },
     "metadata": {},
     "output_type": "display_data"
    }
   ],
   "source": [
    "freeze_header(countries)\n",
    "#countries.at[112,\"country_name\"]"
   ]
  },
  {
   "cell_type": "code",
   "execution_count": null,
   "id": "8b624cce-6810-445c-b69e-23bacc19124e",
   "metadata": {},
   "outputs": [],
   "source": []
  }
 ],
 "metadata": {
  "kernelspec": {
   "display_name": "Python 3 (ipykernel)",
   "language": "python",
   "name": "python3"
  },
  "language_info": {
   "codemirror_mode": {
    "name": "ipython",
    "version": 3
   },
   "file_extension": ".py",
   "mimetype": "text/x-python",
   "name": "python",
   "nbconvert_exporter": "python",
   "pygments_lexer": "ipython3",
   "version": "3.12.0"
  }
 },
 "nbformat": 4,
 "nbformat_minor": 5
}
